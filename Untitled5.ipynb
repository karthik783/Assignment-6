{
  "nbformat": 4,
  "nbformat_minor": 0,
  "metadata": {
    "colab": {
      "name": "Untitled5.ipynb",
      "provenance": [],
      "authorship_tag": "ABX9TyN2FkqT02bOLx9MAPcbyn8P",
      "include_colab_link": true
    },
    "kernelspec": {
      "name": "python3",
      "display_name": "Python 3"
    }
  },
  "cells": [
    {
      "cell_type": "markdown",
      "metadata": {
        "id": "view-in-github",
        "colab_type": "text"
      },
      "source": [
        "<a href=\"https://colab.research.google.com/github/karthik783/Assignment-6/blob/master/Untitled5.ipynb\" target=\"_parent\"><img src=\"https://colab.research.google.com/assets/colab-badge.svg\" alt=\"Open In Colab\"/></a>"
      ]
    },
    {
      "cell_type": "code",
      "metadata": {
        "id": "mnfbCHVmNvlV",
        "colab_type": "code",
        "colab": {
          "base_uri": "https://localhost:8080/",
          "height": 84
        },
        "outputId": "8dc877c4-ce3b-44ff-c852-a077d382ba99"
      },
      "source": [
        "# Python Program to find GCD of Two Numbers\n",
        "\n",
        "a = float(input(\" Please Enter the First Value a: \"))\n",
        "b = float(input(\" Please Enter the Second Value b: \"))\n",
        "i = 1\n",
        "while(i <= a and i <= b):\n",
        "    if(a % i == 0 and b % i == 0):\n",
        "        gcd = i\n",
        "    i = i + 1\n",
        "print(\"\\n HCF of {0} and {1} = {2}\".format(a, b, gcd))"
      ],
      "execution_count": null,
      "outputs": [
        {
          "output_type": "stream",
          "text": [
            " Please Enter the First Value a: 4\n",
            " Please Enter the Second Value b: 8\n",
            "\n",
            " HCF of 4.0 and 8.0 = 4\n"
          ],
          "name": "stdout"
        }
      ]
    },
    {
      "cell_type": "code",
      "metadata": {
        "id": "b3LwthOCOWcs",
        "colab_type": "code",
        "colab": {
          "base_uri": "https://localhost:8080/",
          "height": 67
        },
        "outputId": "6711f10f-ad02-446a-fb7a-fc3cbc6f95cf"
      },
      "source": [
        "#a Python program that accepts a word from the user and reverse it \n",
        "word = input(\"Input a word to reverse: \")\n",
        "for char in range(len(word) - 1, -1, -1):\n",
        "  print(word[char], end=\"\")\n",
        "print(\"\\n\")"
      ],
      "execution_count": null,
      "outputs": [
        {
          "output_type": "stream",
          "text": [
            "Input a word to reverse: gitam\n",
            "matig\n",
            "\n"
          ],
          "name": "stdout"
        }
      ]
    },
    {
      "cell_type": "code",
      "metadata": {
        "id": "ducsdcY6Oy--",
        "colab_type": "code",
        "colab": {
          "base_uri": "https://localhost:8080/",
          "height": 50
        },
        "outputId": "6d91e830-2c93-4ca5-db3e-3850569ef6c3"
      },
      "source": [
        "#a Python program to count the number of even and odd numbers from a series of numbers. \n",
        "numbers = (1, 2, 3, 4, 5, 6, 7, 8, 9) # Declaring the tuple\n",
        "count_odd = 0\n",
        "count_even = 0\n",
        "for x in numbers:\n",
        "        if not x % 2:\n",
        "    \t     count_even+=1\n",
        "        else:\n",
        "    \t     count_odd+=1\n",
        "print(\"Number of even numbers :\",count_even)\n",
        "print(\"Number of odd numbers :\",count_odd)"
      ],
      "execution_count": null,
      "outputs": [
        {
          "output_type": "stream",
          "text": [
            "Number of even numbers : 4\n",
            "Number of odd numbers : 5\n"
          ],
          "name": "stdout"
        }
      ]
    },
    {
      "cell_type": "code",
      "metadata": {
        "id": "hQWhjPIvQFDE",
        "colab_type": "code",
        "colab": {
          "base_uri": "https://localhost:8080/",
          "height": 50
        },
        "outputId": "37d88bdb-0f73-4766-b360-0e454b174a12"
      },
      "source": [
        "#a Python program that prints all the numbers from 0 to 6 except 3 and 6. \n",
        "for x in range(6):\n",
        "    if (x == 3 or x==6):       \n",
        "        continue\t    \n",
        "    print(x,end=' ')\n",
        "print(\"\\n\")"
      ],
      "execution_count": null,
      "outputs": [
        {
          "output_type": "stream",
          "text": [
            "0 1 2 4 5 \n",
            "\n"
          ],
          "name": "stdout"
        }
      ]
    }
  ]
}